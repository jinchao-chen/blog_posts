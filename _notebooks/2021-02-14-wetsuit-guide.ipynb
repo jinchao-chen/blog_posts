{
 "cells": [
  {
   "cell_type": "markdown",
   "metadata": {},
   "source": [
    "# Data based wetsuit buying guide\n",
    "> A wetsuit buying guide for Dutch surfers, based on surf forecasts/wetsuit recommnedations on [surfweer](surfweer.nl)\n",
    "\n",
    "- toc: true\n",
    "- badges: true\n",
    "- comments: true\n",
    "- categories: [data analysis, surfing]"
   ]
  },
  {
   "cell_type": "code",
   "execution_count": 22,
   "metadata": {},
   "outputs": [],
   "source": [
    "# hide\n",
    "copy_to_post = 0 # if true, copied to the blog post git folder"
   ]
  },
  {
   "cell_type": "code",
   "execution_count": 23,
   "metadata": {
    "scrolled": true
   },
   "outputs": [],
   "source": [
    "# hide\n",
    "from pathlib import Path\n",
    "\n",
    "import calplot\n",
    "import matplotlib.pyplot as plt\n",
    "import numpy as np\n",
    "import pandas as pd\n",
    "import seaborn as sns\n",
    "from matplotlib import colors"
   ]
  },
  {
   "cell_type": "code",
   "execution_count": 24,
   "metadata": {},
   "outputs": [],
   "source": [
    "# hide\n",
    "def report_na(df, col):\n",
    "\n",
    "    print(\n",
    "        \"{:0.2f}% rows do not contain {:} recommendation\".format(\n",
    "            100 * df[col].isna().mean(), col\n",
    "        )\n",
    "    )"
   ]
  },
  {
   "cell_type": "markdown",
   "metadata": {},
   "source": [
    "# **Introduction**\n",
    "\n",
    "I got the surfing bug during a vacation in Portugal and it remains my passion ever since. In contrast to the warm and pleasant subtropical conditions in Protugal, the Dutch surf scene is quite different here in the North Sea. As a weekend surfer, I am truely grateful for the wetsuit invention that allowes me to surf for two hours or even longer in the water. Recently, I decided to invest in some quality wetsuits to be able to surf all year round. As an engineer relies on data to make decisions, I started this project  to analyze the surf reports posted on [surfweer](https://surfweer.nl). Most of the forecasts contains a section about wetsuit recommendations, which provides valuable input for my project. \n",
    "\n",
    "After [web crawling and data cleaning](https://github.com/jinchao-chen/surf_report_analysis), I was able to gather a few entires that covers the period from 2019 to 2020. With these available information, I would like to get to know:\n",
    "\n",
    "- How often is there a surfable condition? \n",
    "- What types of wetsuit do I need to surf in different seasons?"
   ]
  },
  {
   "cell_type": "code",
   "execution_count": 25,
   "metadata": {},
   "outputs": [],
   "source": [
    "# hide\n",
    "\n",
    "fln = \"surfweer_data_2021_01_26_clean.csv\"\n",
    "\n",
    "df = pd.read_csv(\n",
    "    fln,\n",
    "    index_col=0,\n",
    "    parse_dates=[\"report_date\", \"post_date\"],\n",
    "    dtype={\"wetsuit\": \"str\", \"schoen\": \"str\", \"cap\": \"str\"},\n",
    ")\n",
    "df[\"week\"] = df[\"report_date\"].apply(lambda x: x.isocalendar()[1])\n",
    "df[\"weekday\"] = df[\"report_date\"].apply(lambda x: x.weekday())"
   ]
  },
  {
   "cell_type": "markdown",
   "metadata": {},
   "source": [
    "# **Surf Analysis**"
   ]
  },
  {
   "cell_type": "code",
   "execution_count": 26,
   "metadata": {},
   "outputs": [],
   "source": [
    "# hide\n",
    "df[\"test\"] = 1\n",
    "df_sub = df[[\"report_date\", \"test\"]]\n",
    "df_sub = df_sub.drop_duplicates()"
   ]
  },
  {
   "cell_type": "code",
   "execution_count": 27,
   "metadata": {},
   "outputs": [
    {
     "data": {
      "image/png": "[encoded data removed]",
      "text/plain": [
       "<Figure size 720x367.2 with 3 Axes>"
      ]
     },
     "metadata": {
      "needs_background": "light"
     },
     "output_type": "display_data"
    }
   ],
   "source": [
    "# hide\n",
    "events = pd.Series(df_sub[\"test\"].to_numpy(), index=df_sub[\"report_date\"])\n",
    "cmap = colors.ListedColormap([\"xkcd:ocean blue\", \"green\"])\n",
    "calplot.calplot(events, cmap=cmap);"
   ]
  },
  {
   "cell_type": "code",
   "execution_count": 28,
   "metadata": {},
   "outputs": [],
   "source": [
    "# hide\n",
    "df_monthly = df.groupby([\"year\", \"month\"])[\"report_date\"].count()\n",
    "df_monthly = df_monthly.reset_index()"
   ]
  },
  {
   "cell_type": "markdown",
   "metadata": {},
   "source": [
    "The data contains . \n",
    "\n",
    "Observations: \n",
    "\n",
    "- swells are mostly active in spring and autumn. the frequency peaks in \n",
    "- camel peaks distribution  "
   ]
  },
  {
   "cell_type": "code",
   "execution_count": null,
   "metadata": {},
   "outputs": [],
   "source": [
    "#hide_input\n",
    "ax = sns.catplot(x=\"month\", y=\"report_date\", col=\"year\", data=df_monthly, kind=\"bar\");\n",
    "ax.set_ylabels('surf days');"
   ]
  },
  {
   "cell_type": "markdown",
   "metadata": {},
   "source": [
    "# **Wetsuit Analysis**"
   ]
  },
  {
   "cell_type": "markdown",
   "metadata": {},
   "source": [
    "As per [srface](https://srface.com/knowledge-base/neoprene-wetsuit-thickness/), *brands usually advertise their wetsuit neoprene thicknesses as 3/2, 4/3, 5/4, 6/4, etc. 3/2 for instance, means this wetsuit’s main panels are 3mm and 2mm thick. Normally, the chest and back panels are made out of thicker neoprene foam for extra warmth. Arms, shoulders, and legs are usually thinner for more flexibility.* \n",
    "\n",
    "I chose to use the main panel thickness only in the analysis, to reduce the number of types. It will be renamed using 3, 4, 5, 6. "
   ]
  },
  {
   "cell_type": "code",
   "execution_count": null,
   "metadata": {},
   "outputs": [],
   "source": [
    "# hide\n",
    "def rename_wetsuit(wet_suit):\n",
    "    \"\"\"\n",
    "    Rename wetsuit, use only the main panel thickenss (the first character in the string)\n",
    "    \"\"\"\n",
    "    try:\n",
    "        return wet_suit[0]\n",
    "    except:\n",
    "        pass"
   ]
  },
  {
   "cell_type": "code",
   "execution_count": null,
   "metadata": {},
   "outputs": [],
   "source": [
    "# hide\n",
    "df[\"wetsuit\"] = df[\"wetsuit\"].apply(rename_wetsuit)"
   ]
  },
  {
   "cell_type": "code",
   "execution_count": null,
   "metadata": {},
   "outputs": [],
   "source": [
    "# hide\n",
    "def sort_hue(values):\n",
    "    \"\"\"sort string list\n",
    "    \"\"\"\n",
    "    values.sort(key=float)\n",
    "    return values\n",
    "\n",
    "\n",
    "def monthly_summary(df, item):\n",
    "\n",
    "    # Create monthly summary\n",
    "    monthly = df.groupby([\"month\", item])[\"report_date\"].count()\n",
    "    monthly = monthly.reset_index()\n",
    "    values = list(monthly[item].unique())\n",
    "\n",
    "    # plot\n",
    "    ax = sns.histplot(\n",
    "        x=\"month\",\n",
    "        weights=\"report_date\",\n",
    "        hue=item,\n",
    "        data=monthly,\n",
    "        multiple=\"stack\",\n",
    "        bins=12,\n",
    "        discrete=True,\n",
    "        hue_order=sort_hue(values),\n",
    "        shrink=0.8,\n",
    "    )\n",
    "\n",
    "    ax.set_xlabel(\"month\")\n",
    "    ax.set_ylabel(\"days\")\n",
    "    ax.set_xticks(np.arange(1, 12 + 1, 1.0))\n",
    "    ax.set_xticklabels(\n",
    "        [\n",
    "            \"Jan\",\n",
    "            \"Feb\",\n",
    "            \"Mar\",\n",
    "            \"Apr\",\n",
    "            \"May\",\n",
    "            \"Jun\",\n",
    "            \"Jul\",\n",
    "            \"Aug\",\n",
    "            \"Sep\",\n",
    "            \"Oct\",\n",
    "            \"Nov\",\n",
    "            \"Dec\",\n",
    "        ]\n",
    "    )\n",
    "\n",
    "    labels = [\"{:} mm\".format(value) for value in sort_hue(values)]\n",
    "    ax.legend(\n",
    "        title=item, labels=labels[::-1],\n",
    "    )\n",
    "\n",
    "    return ax"
   ]
  },
  {
   "cell_type": "markdown",
   "metadata": {},
   "source": [
    "## **Wetsuit**"
   ]
  },
  {
   "cell_type": "code",
   "execution_count": null,
   "metadata": {},
   "outputs": [],
   "source": [
    "# hide_input\n",
    "report_na(df, \"wetsuit\")\n",
    "ax = monthly_summary(df, \"wetsuit\")\n",
    "ax.set_xlabel(\"\")\n",
    "fig = ax.figure"
   ]
  },
  {
   "cell_type": "code",
   "execution_count": null,
   "metadata": {},
   "outputs": [],
   "source": [
    "# hide_input\n",
    "# write a interactive \n",
    "# assumptions: if it requires a 3, a wetsuit that is slightly thicker (therefore a '4') is assumed to be suitable for"
   ]
  },
  {
   "cell_type": "code",
   "execution_count": null,
   "metadata": {},
   "outputs": [],
   "source": [
    "# hide\n",
    "item = 'wetsuit'\n",
    "monthly = df.groupby([\"month\", item])[\"report_date\"].count()\n",
    "monthly = monthly.reset_index()\n",
    "monthly"
   ]
  },
  {
   "cell_type": "markdown",
   "metadata": {},
   "source": [
    "## **Schoen**"
   ]
  },
  {
   "cell_type": "code",
   "execution_count": null,
   "metadata": {},
   "outputs": [],
   "source": [
    "# hide_input\n",
    "# report_na(df, \"schoen\")\n",
    "monthly_summary(df, \"schoen\")"
   ]
  },
  {
   "cell_type": "markdown",
   "metadata": {},
   "source": [
    "## **Cap**"
   ]
  },
  {
   "cell_type": "code",
   "execution_count": null,
   "metadata": {},
   "outputs": [],
   "source": [
    "# hide_input\n",
    "# report_na(df, \"cap\")\n",
    "monthly_summary(df, \"cap\");"
   ]
  },
  {
   "cell_type": "code",
   "execution_count": null,
   "metadata": {},
   "outputs": [],
   "source": [
    "# hide\n",
    "\n",
    "from shutil import copyfile\n",
    "\n",
    "if copy_to_post:\n",
    "    src = (\n",
    "        \"/Users/jinchaochen/Documents/git/surf_report_analysis/data_visualization.ipynb\"\n",
    "    )\n",
    "    dst = \"/Users/jinchaochen/Documents/git/blog_posts/_notebooks/2021-02-14-wetsuit-guide.ipynb\"\n",
    "    copyfile(src, dst)"
   ]
  },
  {
   "cell_type": "code",
   "execution_count": null,
   "metadata": {},
   "outputs": [],
   "source": []
  }
 ],
 "metadata": {
  "kernelspec": {
   "display_name": "Python 3",
   "language": "python",
   "name": "python3"
  },
  "language_info": {
   "codemirror_mode": {
    "name": "ipython",
    "version": 3
   },
   "file_extension": ".py",
   "mimetype": "text/x-python",
   "name": "python",
   "nbconvert_exporter": "python",
   "pygments_lexer": "ipython3",
   "version": "3.8.5"
  },
  "toc": {
   "base_numbering": 1,
   "nav_menu": {},
   "number_sections": true,
   "sideBar": true,
   "skip_h1_title": false,
   "title_cell": "Table of Contents",
   "title_sidebar": "Contents",
   "toc_cell": false,
   "toc_position": {},
   "toc_section_display": true,
   "toc_window_display": false
  },
  "toc-autonumbering": true,
  "toc-showmarkdowntxt": true
 },
 "nbformat": 4,
 "nbformat_minor": 4
}
